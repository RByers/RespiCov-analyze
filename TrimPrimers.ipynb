{
 "cells": [
  {
   "cell_type": "markdown",
   "metadata": {},
   "source": [
    "# Trim Primers\n",
    "\n",
    "Given a single-sequence FASTQ file and primer ID, updates the file to contain only the sequence between the primers."
   ]
  },
  {
   "cell_type": "markdown",
   "metadata": {},
   "source": [
    "## Setup"
   ]
  },
  {
   "cell_type": "code",
   "execution_count": 2,
   "metadata": {},
   "outputs": [],
   "source": [
    "%load_ext autoreload\n",
    "%autoreload 1\n",
    "%aimport RCUtils"
   ]
  },
  {
   "cell_type": "code",
   "execution_count": 3,
   "metadata": {},
   "outputs": [
    {
     "name": "stdout",
     "output_type": "stream",
     "text": [
      "Reading primers: HRVPrimers.fasta\n",
      "  ENTng-f (2 variations)\n",
      "  ENTng-r\n",
      "  ENTng-p (8 variations)\n",
      "  ENTrc-f1\n",
      "  ENTrc-f2\n",
      "  ENTrc-r\n",
      "  HRVma-f\n",
      "  HRVma-r\n",
      "  HRVma-p\n",
      "  HRVka5-f\n",
      "  HRVka5-ro\n",
      "  HRVka5-ri\n",
      "  HRVbo-f (4 variations)\n",
      "  HRVbo-r\n",
      "  HRVbo-p\n",
      "Read 26 primers\n"
     ]
    }
   ],
   "source": [
    "from Bio import Align\n",
    "from Bio import SeqIO\n",
    "import matplotlib_inline.backend_inline\n",
    "import os\n",
    "import pandas as pd\n",
    "import RCUtils\n",
    "import random\n",
    "import glob\n",
    "\n",
    "qPCRprimers = RCUtils.readPrimers(\"HRVPrimers.fasta\", display=True)\n",
    "\n",
    "def getPrimers(name):\n",
    "    return filter(lambda p: p.name.startswith(name), qPCRprimers)\n",
    "\n",
    "from pathlib import Path\n",
    "\n",
    "def trimAllPrimers(pathGlob,primers):\n",
    "    for path in glob.glob(pathGlob):\n",
    "        trimPrimers(path, primers)\n",
    "\n",
    "def trimPrimers(fastQPath, primers):\n",
    "    record = SeqIO.read(fastQPath, \"fastq\")\n",
    "    hits = RCUtils.computePrimerHits(record, primers)\n",
    "    print()\n",
    "    print(f\"{fastQPath}, len={len(record.seq)}\")\n",
    "    for hit in hits:\n",
    "        print(f\" {hit.primer.name} {hit.start}-{hit.end} ({hit.mr*100:.0f}%)\")\n",
    "    if len(hits) < 2:\n",
    "        print(\"  ERROR: didn't get 2 primer hits\")\n",
    "    elif hits[0].end > hits[-1].start:\n",
    "        print(\"  ERROR: hits in wrong order\")\n",
    "    else:\n",
    "        start = hits[0].end\n",
    "        end = hits[-1].start\n",
    "        trimmed = record[start:end]\n",
    "        print(f\" trimmed to {start}-{end} len={len(trimmed.seq)}\")\n",
    "        SeqIO.write(trimmed, fastQPath+\".trimmed\", \"fastq\")\n",
    "    "
   ]
  },
  {
   "cell_type": "code",
   "execution_count": 27,
   "metadata": {},
   "outputs": [
    {
     "name": "stdout",
     "output_type": "stream",
     "text": [
      "\n",
      "myseqs/S28-RVA-23.fastq, len=392\n",
      " ENTrc-f1 1-22 (100%)\n",
      " ENTrc-r 370-391 (100%)\n",
      " trimmed to 22-370 len=348\n",
      "\n",
      "myseqs/S44-RVA-56.fastq, len=417\n",
      " ENTrc-f1 23-44 (95%)\n",
      " ENTrc-r 394-415 (100%)\n",
      " trimmed to 44-394 len=350\n",
      "\n",
      "myseqs/S48-RVC-1.fastq, len=397\n",
      " ENTrc-f1 1-22 (100%)\n",
      " ENTrc-r 374-395 (100%)\n",
      " trimmed to 22-374 len=352\n",
      "\n",
      "myseqs/S59-RVA-77.fastq, len=437\n",
      " HRVka5-f 16-37 (100%)\n",
      " HRVka5-ri 291-309 (100%)\n",
      " HRVka5-ro 388-411 (100%)\n",
      " trimmed to 37-388 len=351\n"
     ]
    }
   ],
   "source": [
    "trimPrimers(\"myseqs/S28-RVA-23.fastq\", getPrimers(\"ENTrc\"))\n",
    "trimPrimers(\"myseqs/S44-RVA-56.fastq\", getPrimers(\"ENTrc\"))\n",
    "trimPrimers(\"myseqs/S48-RVC-1.fastq\", getPrimers(\"ENTrc\"))\n",
    "trimPrimers(\"myseqs/S59-RVA-77.fastq\", getPrimers(\"HRVka5\"))\n"
   ]
  },
  {
   "cell_type": "code",
   "execution_count": null,
   "metadata": {},
   "outputs": [
    {
     "name": "stdout",
     "output_type": "stream",
     "text": [
      "\n",
      "myseqs/S142-RVA-62.fastq, len=346\n",
      "  ERROR: didn't get 2 primer hits\n",
      "\n",
      "myseqs/S147-RVC-44.fastq, len=338\n",
      "  ERROR: didn't get 2 primer hits\n",
      "\n",
      "myseqs/S148-RVA-68.fastq, len=349\n",
      "  ERROR: didn't get 2 primer hits\n",
      "\n",
      "myseqs/S153-RVB-27.fastq, len=333\n",
      " HRVka5-ri 60-78 (100%)\n",
      "  ERROR: didn't get 2 primer hits\n"
     ]
    }
   ],
   "source": [
    "trimPrimers(\"myseqs/S142-RVA-62.fastq\", getPrimers(\"ENTrc\"))\n",
    "trimPrimers(\"myseqs/S147-RVC-44.fastq\", getPrimers(\"ENTrc\"))\n",
    "trimPrimers(\"myseqs/S148-RVA-68.fastq\", getPrimers(\"ENTrc\"))\n",
    "trimPrimers(\"myseqs/S153-RVB-27.fastq\", getPrimers(\"ENTrc\"))\n"
   ]
  },
  {
   "cell_type": "code",
   "execution_count": null,
   "metadata": {},
   "outputs": [],
   "source": []
  }
 ],
 "metadata": {
  "kernelspec": {
   "display_name": "base",
   "language": "python",
   "name": "python3"
  },
  "language_info": {
   "codemirror_mode": {
    "name": "ipython",
    "version": 3
   },
   "file_extension": ".py",
   "mimetype": "text/x-python",
   "name": "python",
   "nbconvert_exporter": "python",
   "pygments_lexer": "ipython3",
   "version": "3.9.18"
  },
  "orig_nbformat": 4
 },
 "nbformat": 4,
 "nbformat_minor": 2
}
